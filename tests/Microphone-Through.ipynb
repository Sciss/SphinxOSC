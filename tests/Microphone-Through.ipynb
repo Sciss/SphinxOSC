{
 "cells": [
  {
   "cell_type": "code",
   "execution_count": 15,
   "metadata": {},
   "outputs": [],
   "source": [
    "import sounddevice as sd # a nice wrapper around pyaudio that simplifies some things\n",
    "# see: https://python-sounddevice.readthedocs.io/en/0.3.12/usage.html\n",
    "import numpy"
   ]
  },
  {
   "cell_type": "code",
   "execution_count": 16,
   "metadata": {},
   "outputs": [],
   "source": [
    "# Audio callback, just copy input frames to output buffer\n",
    "def audio_cb(indata, outdata, frames, time, status):\n",
    "    if status:\n",
    "        print(status)\n",
    "    outdata[:] = indata"
   ]
  },
  {
   "cell_type": "code",
   "execution_count": 17,
   "metadata": {},
   "outputs": [
    {
     "name": "stdout",
     "output_type": "stream",
     "text": [
      "   0 Built-in Microphone, Core Audio (2 in, 0 out)\n",
      "   1 Built-in Output, Core Audio (0 in, 2 out)\n",
      "   2 HDMI, Core Audio (0 in, 2 out)\n",
      "   3 Soundflower (2ch), Core Audio (2 in, 2 out)\n",
      "   4 Soundflower (64ch), Core Audio (64 in, 64 out)\n",
      "   5 Premiere Pro 5.0, Core Audio (0 in, 0 out)\n",
      "*  6 Fireface UCX (23590637), Core Audio (18 in, 18 out)\n",
      "   7 H2Core, Core Audio (0 in, 2 out)\n",
      "   8 USBMixer, Core Audio (0 in, 0 out)\n",
      "   9 Soundblaster PLAY!, Core Audio (0 in, 0 out)\n",
      "  10 Builtin+SF, Core Audio (64 in, 66 out)\n",
      "  11 Saffire+SF, Core Audio (64 in, 64 out)\n",
      "  12 FA101+SF, Core Audio (64 in, 64 out)\n",
      "Default:  [6, 6]\n",
      "['float32', 'float32']\n"
     ]
    }
   ],
   "source": [
    "print(sd.query_devices())\n",
    "print(\"Default: \",sd.default.device) # sd.default.device is a property that can be set\n",
    "usedev = sd.default.device\n",
    "print(sd.default.dtype)\n",
    "sr = 16000\n",
    "bs = 512\n",
    "dtype = 'int16'\n",
    "ch = 1\n",
    "latency = ('low','high') # see https://python-sounddevice.readthedocs.io/en/0.3.12/api.html#sounddevice.default.dtype\n"
   ]
  },
  {
   "cell_type": "code",
   "execution_count": 18,
   "metadata": {},
   "outputs": [
    {
     "name": "stdout",
     "output_type": "stream",
     "text": [
      "################################################################################\n",
      "press Return to quit\n",
      "################################################################################\n",
      "\n"
     ]
    }
   ],
   "source": [
    "try:\n",
    "    with sd.Stream(device=(usedev, usedev),\n",
    "                   samplerate=sr, blocksize=bs,\n",
    "                   dtype=dtype, latency=latency,\n",
    "                   channels=ch, callback=audio_cb):\n",
    "        print('#' * 80)\n",
    "        print('press Return to quit')\n",
    "        print('#' * 80)\n",
    "        input()\n",
    "except KeyboardInterrupt:\n",
    "    parser.exit('\\nInterrupted by user')\n",
    "except Exception as e:\n",
    "    parser.exit(type(e).__name__ + ': ' + str(e))"
   ]
  },
  {
   "cell_type": "code",
   "execution_count": null,
   "metadata": {},
   "outputs": [],
   "source": []
  }
 ],
 "metadata": {
  "kernelspec": {
   "display_name": "Python 3",
   "language": "python",
   "name": "python3"
  },
  "language_info": {
   "codemirror_mode": {
    "name": "ipython",
    "version": 3
   },
   "file_extension": ".py",
   "mimetype": "text/x-python",
   "name": "python",
   "nbconvert_exporter": "python",
   "pygments_lexer": "ipython3",
   "version": "3.5.5"
  }
 },
 "nbformat": 4,
 "nbformat_minor": 2
}
