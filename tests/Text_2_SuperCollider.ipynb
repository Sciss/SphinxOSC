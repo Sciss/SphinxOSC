{
 "cells": [
  {
   "cell_type": "code",
   "execution_count": 25,
   "metadata": {},
   "outputs": [],
   "source": [
    "import random\n",
    "import os\n",
    "\n",
    "from pythonosc import osc_message_builder\n",
    "from pythonosc import udp_client"
   ]
  },
  {
   "cell_type": "code",
   "execution_count": 31,
   "metadata": {},
   "outputs": [
    {
     "name": "stdout",
     "output_type": "stream",
     "text": [
      "/Volumes/Store/Drive/DEV/almat/corpus/text/music-representation.txt\n"
     ]
    }
   ],
   "source": [
    "# Load some next\n",
    "TEXTPATH = os.path.normpath(os.path.join(os.getcwd(), \"../corpus/text\"))\n",
    "FILEPATH = os.path.join(TEXTPATH, \"music-representation.txt\")\n",
    "print(FILEPATH)"
   ]
  },
  {
   "cell_type": "code",
   "execution_count": 55,
   "metadata": {},
   "outputs": [
    {
     "name": "stdout",
     "output_type": "stream",
     "text": [
      "['What', 'is', 'elegance?', 'Music', 'is', 'a', 'writing', 'process']\n"
     ]
    }
   ],
   "source": [
    "corpus = []\n",
    "with open(FILEPATH, 'r') as file:\n",
    "    for line in file:\n",
    "        for word in line.split():\n",
    "            corpus.append(word)\n",
    "        #corpus.append('\\n')\n",
    "print(corpus)"
   ]
  },
  {
   "cell_type": "code",
   "execution_count": 56,
   "metadata": {},
   "outputs": [],
   "source": [
    "scport = 57120\n",
    "client = udp_client.SimpleUDPClient(\"127.0.0.1\", scport)"
   ]
  },
  {
   "cell_type": "code",
   "execution_count": 60,
   "metadata": {},
   "outputs": [
    {
     "name": "stdout",
     "output_type": "stream",
     "text": [
      "What\n",
      "is\n",
      "elegance?\n",
      "Music\n",
      "is\n",
      "a\n",
      "writing\n",
      "process\n"
     ]
    }
   ],
   "source": [
    "for word in corpus:\n",
    "    client.send_message(\"/readwrite/word\", word)\n",
    "    print(word)\n",
    "    time.sleep(1)\n"
   ]
  },
  {
   "cell_type": "code",
   "execution_count": null,
   "metadata": {},
   "outputs": [],
   "source": []
  }
 ],
 "metadata": {
  "kernelspec": {
   "display_name": "Python 3",
   "language": "python",
   "name": "python3"
  },
  "language_info": {
   "codemirror_mode": {
    "name": "ipython",
    "version": 3
   },
   "file_extension": ".py",
   "mimetype": "text/x-python",
   "name": "python",
   "nbconvert_exporter": "python",
   "pygments_lexer": "ipython3",
   "version": "3.5.5"
  }
 },
 "nbformat": 4,
 "nbformat_minor": 2
}
